{
 "cells": [
  {
   "cell_type": "markdown",
   "metadata": {},
   "source": [
    "Stage 4, Report\n",
    "https://github.com/anhaidgroup/py_entitymatching/blob/master/notebooks/vldb_demo/Demo_notebook_v6.ipynb"
   ]
  },
  {
   "cell_type": "code",
   "execution_count": 1,
   "metadata": {
    "collapsed": false
   },
   "outputs": [
    {
     "name": "stderr",
     "output_type": "stream",
     "text": [
      "No handlers could be found for logger \"py_entitymatching.io.parsers\"\n"
     ]
    }
   ],
   "source": [
    "import py_entitymatching as em\n",
    "import os\n",
    "import pandas as pd\n",
    "\n",
    "# specify filepaths for tables A and B. \n",
    "path_A = 'tableA.csv'\n",
    "path_B = 'tableB.csv'\n",
    "# read table A; table A has 'ID' as the key attribute\n",
    "A = em.read_csv_metadata(path_A, key='id')\n",
    "# read table B; table B has 'ID' as the key attribute\n",
    "B = em.read_csv_metadata(path_B, key='id')"
   ]
  },
  {
   "cell_type": "code",
   "execution_count": 2,
   "metadata": {
    "collapsed": false
   },
   "outputs": [
    {
     "name": "stdout",
     "output_type": "stream",
     "text": [
      "65\n",
      "0\n",
      "5244\n",
      "0\n"
     ]
    }
   ],
   "source": [
    "# Impute missing values\n",
    "\n",
    "# Manually set metadata properties, as current py_entitymatching.impute_table()\n",
    "# requires 'fk_ltable', 'fk_rtable', 'ltable', 'rtable' properties\n",
    "em.set_property(A, 'fk_ltable', 'id')\n",
    "em.set_property(A, 'fk_rtable', 'id')\n",
    "em.set_property(A, 'ltable', A)\n",
    "em.set_property(A, 'rtable', A)\n",
    "\n",
    "A_all_attrs = list(A.columns.values)\n",
    "A_impute_attrs = ['year','min_num_players','max_num_players','min_gameplay_time','max_gameplay_time','min_age']\n",
    "A_exclude_attrs = list(set(A_all_attrs) - set(A_impute_attrs))\n",
    "A1 = em.impute_table(A, exclude_attrs=A_exclude_attrs, missing_val='NaN', strategy='most_frequent', axis=0, val_all_nans=0, verbose=True)\n",
    "\n",
    "# Compare number of missing values to check the results\n",
    "print(sum(A['min_num_players'].isnull()))\n",
    "print(sum(A1['min_num_players'].isnull()))\n",
    "\n",
    "# Do the same thing for B\n",
    "em.set_property(B, 'fk_ltable', 'id')\n",
    "em.set_property(B, 'fk_rtable', 'id')\n",
    "em.set_property(B, 'ltable', B)\n",
    "em.set_property(B, 'rtable', B)\n",
    "\n",
    "B_all_attrs = list(B.columns.values)\n",
    "# TODO: add 'min_age'\n",
    "B_impute_attrs = ['year','min_num_players','max_num_players','min_gameplay_time','max_gameplay_time']\n",
    "B_exclude_attrs = list(set(B_all_attrs) - set(B_impute_attrs))\n",
    "B1 = em.impute_table(B, exclude_attrs=B_exclude_attrs, missing_val='NaN', strategy='most_frequent', axis=0, val_all_nans=0, verbose=True)\n",
    "\n",
    "# Compare number of missing values to check the results\n",
    "print(sum(B['min_num_players'].isnull()))\n",
    "print(sum(B1['min_num_players'].isnull()))\n"
   ]
  },
  {
   "cell_type": "code",
   "execution_count": 3,
   "metadata": {
    "collapsed": false
   },
   "outputs": [],
   "source": [
    "# Load the pre-labeled data\n",
    "S = em.read_csv_metadata('sample_labeled.csv', \n",
    "                         key='_id',\n",
    "                         ltable=A1, rtable=B1, \n",
    "                         fk_ltable='ltable_id', fk_rtable='rtable_id')"
   ]
  },
  {
   "cell_type": "code",
   "execution_count": 4,
   "metadata": {
    "collapsed": false
   },
   "outputs": [],
   "source": [
    "# Split S into I an J\n",
    "IJ = em.split_train_test(S, train_proportion=0.75, random_state=3)\n",
    "I = IJ['train']\n",
    "J = IJ['test']\n"
   ]
  },
  {
   "cell_type": "code",
   "execution_count": 5,
   "metadata": {
    "collapsed": false
   },
   "outputs": [
    {
     "name": "stdout",
     "output_type": "stream",
     "text": [
      "0                                        id_id_exm\n",
      "1                                        id_id_anm\n",
      "2                                   id_id_lev_dist\n",
      "3                                    id_id_lev_sim\n",
      "4                                    year_year_exm\n",
      "5                                    year_year_anm\n",
      "6                               year_year_lev_dist\n",
      "7                                year_year_lev_sim\n",
      "8              min_num_players_min_num_players_exm\n",
      "9              min_num_players_min_num_players_anm\n",
      "10        min_num_players_min_num_players_lev_dist\n",
      "11         min_num_players_min_num_players_lev_sim\n",
      "12             max_num_players_max_num_players_exm\n",
      "13             max_num_players_max_num_players_anm\n",
      "14        max_num_players_max_num_players_lev_dist\n",
      "15         max_num_players_max_num_players_lev_sim\n",
      "16         min_gameplay_time_min_gameplay_time_exm\n",
      "17         min_gameplay_time_min_gameplay_time_anm\n",
      "18    min_gameplay_time_min_gameplay_time_lev_dist\n",
      "19     min_gameplay_time_min_gameplay_time_lev_sim\n",
      "20         max_gameplay_time_max_gameplay_time_exm\n",
      "21         max_gameplay_time_max_gameplay_time_anm\n",
      "22    max_gameplay_time_max_gameplay_time_lev_dist\n",
      "23     max_gameplay_time_max_gameplay_time_lev_sim\n",
      "Name: feature_name, dtype: object\n"
     ]
    }
   ],
   "source": [
    "# Generate a set of features\n",
    "# TODO: change schema to be actually same for tables A and B!!!! \n",
    "# Right now B has like 2ish more columns! Maybe once that is fixed \n",
    "# it will notie that \"name\" is the same across the tables\n",
    "F = em.get_features_for_matching(A1, B1)\n",
    "print F['feature_name']\n",
    "\n",
    "# Select a subset of these features to actually use\n",
    "include_features = [\n",
    "    'min_num_players_min_num_players_lev_dist',\n",
    "    'max_num_players_max_num_players_lev_dist',\n",
    "    'min_gameplay_time_min_gameplay_time_lev_dist',\n",
    "    'max_gameplay_time_max_gameplay_time_lev_dist',\n",
    "]\n",
    "F = F.loc[F['feature_name'].isin(include_features)]"
   ]
  },
  {
   "cell_type": "code",
   "execution_count": 6,
   "metadata": {
    "collapsed": false
   },
   "outputs": [
    {
     "data": {
      "text/html": [
       "<div>\n",
       "<table border=\"1\" class=\"dataframe\">\n",
       "  <thead>\n",
       "    <tr style=\"text-align: right;\">\n",
       "      <th></th>\n",
       "      <th>_id</th>\n",
       "      <th>ltable_id</th>\n",
       "      <th>rtable_id</th>\n",
       "      <th>min_num_players_min_num_players_lev_dist</th>\n",
       "      <th>max_num_players_max_num_players_lev_dist</th>\n",
       "      <th>min_gameplay_time_min_gameplay_time_lev_dist</th>\n",
       "      <th>max_gameplay_time_max_gameplay_time_lev_dist</th>\n",
       "      <th>label</th>\n",
       "    </tr>\n",
       "  </thead>\n",
       "  <tbody>\n",
       "    <tr>\n",
       "      <th>75</th>\n",
       "      <td>73393</td>\n",
       "      <td>6927</td>\n",
       "      <td>6683</td>\n",
       "      <td>1.0</td>\n",
       "      <td>1.0</td>\n",
       "      <td>2.0</td>\n",
       "      <td>2.0</td>\n",
       "      <td>0</td>\n",
       "    </tr>\n",
       "    <tr>\n",
       "      <th>14</th>\n",
       "      <td>57096</td>\n",
       "      <td>1875</td>\n",
       "      <td>10164</td>\n",
       "      <td>0.0</td>\n",
       "      <td>1.0</td>\n",
       "      <td>1.0</td>\n",
       "      <td>1.0</td>\n",
       "      <td>0</td>\n",
       "    </tr>\n",
       "    <tr>\n",
       "      <th>47</th>\n",
       "      <td>121277</td>\n",
       "      <td>3939</td>\n",
       "      <td>8743</td>\n",
       "      <td>0.0</td>\n",
       "      <td>1.0</td>\n",
       "      <td>1.0</td>\n",
       "      <td>1.0</td>\n",
       "      <td>0</td>\n",
       "    </tr>\n",
       "    <tr>\n",
       "      <th>46</th>\n",
       "      <td>17143</td>\n",
       "      <td>742</td>\n",
       "      <td>8262</td>\n",
       "      <td>0.0</td>\n",
       "      <td>0.0</td>\n",
       "      <td>2.0</td>\n",
       "      <td>2.0</td>\n",
       "      <td>0</td>\n",
       "    </tr>\n",
       "    <tr>\n",
       "      <th>379</th>\n",
       "      <td>216801</td>\n",
       "      <td>4510</td>\n",
       "      <td>7062</td>\n",
       "      <td>0.0</td>\n",
       "      <td>0.0</td>\n",
       "      <td>0.0</td>\n",
       "      <td>0.0</td>\n",
       "      <td>1</td>\n",
       "    </tr>\n",
       "    <tr>\n",
       "      <th>159</th>\n",
       "      <td>18588</td>\n",
       "      <td>924</td>\n",
       "      <td>6024</td>\n",
       "      <td>0.0</td>\n",
       "      <td>0.0</td>\n",
       "      <td>0.0</td>\n",
       "      <td>0.0</td>\n",
       "      <td>1</td>\n",
       "    </tr>\n",
       "    <tr>\n",
       "      <th>79</th>\n",
       "      <td>52831</td>\n",
       "      <td>6782</td>\n",
       "      <td>6948</td>\n",
       "      <td>0.0</td>\n",
       "      <td>0.0</td>\n",
       "      <td>0.0</td>\n",
       "      <td>0.0</td>\n",
       "      <td>0</td>\n",
       "    </tr>\n",
       "    <tr>\n",
       "      <th>265</th>\n",
       "      <td>31725</td>\n",
       "      <td>1776</td>\n",
       "      <td>3159</td>\n",
       "      <td>0.0</td>\n",
       "      <td>0.0</td>\n",
       "      <td>0.0</td>\n",
       "      <td>0.0</td>\n",
       "      <td>1</td>\n",
       "    </tr>\n",
       "    <tr>\n",
       "      <th>30</th>\n",
       "      <td>69887</td>\n",
       "      <td>2872</td>\n",
       "      <td>5839</td>\n",
       "      <td>0.0</td>\n",
       "      <td>0.0</td>\n",
       "      <td>2.0</td>\n",
       "      <td>0.0</td>\n",
       "      <td>1</td>\n",
       "    </tr>\n",
       "    <tr>\n",
       "      <th>209</th>\n",
       "      <td>37634</td>\n",
       "      <td>2229</td>\n",
       "      <td>6139</td>\n",
       "      <td>1.0</td>\n",
       "      <td>2.0</td>\n",
       "      <td>0.0</td>\n",
       "      <td>0.0</td>\n",
       "      <td>0</td>\n",
       "    </tr>\n",
       "  </tbody>\n",
       "</table>\n",
       "</div>"
      ],
      "text/plain": [
       "        _id  ltable_id  rtable_id  min_num_players_min_num_players_lev_dist  \\\n",
       "75    73393       6927       6683                                       1.0   \n",
       "14    57096       1875      10164                                       0.0   \n",
       "47   121277       3939       8743                                       0.0   \n",
       "46    17143        742       8262                                       0.0   \n",
       "379  216801       4510       7062                                       0.0   \n",
       "159   18588        924       6024                                       0.0   \n",
       "79    52831       6782       6948                                       0.0   \n",
       "265   31725       1776       3159                                       0.0   \n",
       "30    69887       2872       5839                                       0.0   \n",
       "209   37634       2229       6139                                       1.0   \n",
       "\n",
       "     max_num_players_max_num_players_lev_dist  \\\n",
       "75                                        1.0   \n",
       "14                                        1.0   \n",
       "47                                        1.0   \n",
       "46                                        0.0   \n",
       "379                                       0.0   \n",
       "159                                       0.0   \n",
       "79                                        0.0   \n",
       "265                                       0.0   \n",
       "30                                        0.0   \n",
       "209                                       2.0   \n",
       "\n",
       "     min_gameplay_time_min_gameplay_time_lev_dist  \\\n",
       "75                                            2.0   \n",
       "14                                            1.0   \n",
       "47                                            1.0   \n",
       "46                                            2.0   \n",
       "379                                           0.0   \n",
       "159                                           0.0   \n",
       "79                                            0.0   \n",
       "265                                           0.0   \n",
       "30                                            2.0   \n",
       "209                                           0.0   \n",
       "\n",
       "     max_gameplay_time_max_gameplay_time_lev_dist  label  \n",
       "75                                            2.0      0  \n",
       "14                                            1.0      0  \n",
       "47                                            1.0      0  \n",
       "46                                            2.0      0  \n",
       "379                                           0.0      1  \n",
       "159                                           0.0      1  \n",
       "79                                            0.0      0  \n",
       "265                                           0.0      1  \n",
       "30                                            0.0      1  \n",
       "209                                           0.0      0  "
      ]
     },
     "execution_count": 6,
     "metadata": {},
     "output_type": "execute_result"
    }
   ],
   "source": [
    "# Convert the I into a set of feature vectors using F\n",
    "H = em.extract_feature_vecs(I, feature_table=F, attrs_after='label', show_progress=False)\n",
    "H.head(10)"
   ]
  },
  {
   "cell_type": "code",
   "execution_count": 7,
   "metadata": {
    "collapsed": false
   },
   "outputs": [],
   "source": [
    "#B1['min_num_players']\n",
    "# Extract features which we would like to use only\n"
   ]
  },
  {
   "cell_type": "markdown",
   "metadata": {},
   "source": [
    "# Matcher Selection"
   ]
  },
  {
   "cell_type": "code",
   "execution_count": 8,
   "metadata": {
    "collapsed": true
   },
   "outputs": [],
   "source": []
  },
  {
   "cell_type": "code",
   "execution_count": 27,
   "metadata": {
    "collapsed": false
   },
   "outputs": [
    {
     "data": {
      "text/html": [
       "<div>\n",
       "<table border=\"1\" class=\"dataframe\">\n",
       "  <thead>\n",
       "    <tr style=\"text-align: right;\">\n",
       "      <th></th>\n",
       "      <th>Name</th>\n",
       "      <th>Matcher</th>\n",
       "      <th>Num folds</th>\n",
       "      <th>Fold 1</th>\n",
       "      <th>Fold 2</th>\n",
       "      <th>Fold 3</th>\n",
       "      <th>Fold 4</th>\n",
       "      <th>Fold 5</th>\n",
       "      <th>Mean score</th>\n",
       "    </tr>\n",
       "  </thead>\n",
       "  <tbody>\n",
       "    <tr>\n",
       "      <th>0</th>\n",
       "      <td>DecisionTree</td>\n",
       "      <td>&lt;py_entitymatching.matcher.dtmatcher.DTMatcher object at 0x115b3d5d0&gt;</td>\n",
       "      <td>5</td>\n",
       "      <td>0.918919</td>\n",
       "      <td>0.972973</td>\n",
       "      <td>0.926829</td>\n",
       "      <td>0.823529</td>\n",
       "      <td>0.916667</td>\n",
       "      <td>0.911783</td>\n",
       "    </tr>\n",
       "    <tr>\n",
       "      <th>1</th>\n",
       "      <td>RF</td>\n",
       "      <td>&lt;py_entitymatching.matcher.rfmatcher.RFMatcher object at 0x115bbf7d0&gt;</td>\n",
       "      <td>5</td>\n",
       "      <td>0.918919</td>\n",
       "      <td>0.972973</td>\n",
       "      <td>0.926829</td>\n",
       "      <td>0.823529</td>\n",
       "      <td>0.916667</td>\n",
       "      <td>0.911783</td>\n",
       "    </tr>\n",
       "    <tr>\n",
       "      <th>2</th>\n",
       "      <td>SVM</td>\n",
       "      <td>&lt;py_entitymatching.matcher.svmmatcher.SVMMatcher object at 0x115a8df90&gt;</td>\n",
       "      <td>5</td>\n",
       "      <td>0.888889</td>\n",
       "      <td>0.972973</td>\n",
       "      <td>0.926829</td>\n",
       "      <td>0.823529</td>\n",
       "      <td>0.916667</td>\n",
       "      <td>0.905777</td>\n",
       "    </tr>\n",
       "    <tr>\n",
       "      <th>3</th>\n",
       "      <td>LinReg</td>\n",
       "      <td>&lt;py_entitymatching.matcher.linregmatcher.LinRegMatcher object at 0x115ba81d0&gt;</td>\n",
       "      <td>5</td>\n",
       "      <td>0.918919</td>\n",
       "      <td>0.972973</td>\n",
       "      <td>0.926829</td>\n",
       "      <td>0.823529</td>\n",
       "      <td>0.916667</td>\n",
       "      <td>0.911783</td>\n",
       "    </tr>\n",
       "    <tr>\n",
       "      <th>4</th>\n",
       "      <td>LogReg</td>\n",
       "      <td>&lt;py_entitymatching.matcher.logregmatcher.LogRegMatcher object at 0x115abc210&gt;</td>\n",
       "      <td>5</td>\n",
       "      <td>0.888889</td>\n",
       "      <td>0.972973</td>\n",
       "      <td>0.900000</td>\n",
       "      <td>0.823529</td>\n",
       "      <td>0.916667</td>\n",
       "      <td>0.900412</td>\n",
       "    </tr>\n",
       "  </tbody>\n",
       "</table>\n",
       "</div>"
      ],
      "text/plain": [
       "           Name  \\\n",
       "0  DecisionTree   \n",
       "1            RF   \n",
       "2           SVM   \n",
       "3        LinReg   \n",
       "4        LogReg   \n",
       "\n",
       "                                                                         Matcher  \\\n",
       "0          <py_entitymatching.matcher.dtmatcher.DTMatcher object at 0x115b3d5d0>   \n",
       "1          <py_entitymatching.matcher.rfmatcher.RFMatcher object at 0x115bbf7d0>   \n",
       "2        <py_entitymatching.matcher.svmmatcher.SVMMatcher object at 0x115a8df90>   \n",
       "3  <py_entitymatching.matcher.linregmatcher.LinRegMatcher object at 0x115ba81d0>   \n",
       "4  <py_entitymatching.matcher.logregmatcher.LogRegMatcher object at 0x115abc210>   \n",
       "\n",
       "   Num folds    Fold 1    Fold 2    Fold 3    Fold 4    Fold 5  Mean score  \n",
       "0          5  0.918919  0.972973  0.926829  0.823529  0.916667    0.911783  \n",
       "1          5  0.918919  0.972973  0.926829  0.823529  0.916667    0.911783  \n",
       "2          5  0.888889  0.972973  0.926829  0.823529  0.916667    0.905777  \n",
       "3          5  0.918919  0.972973  0.926829  0.823529  0.916667    0.911783  \n",
       "4          5  0.888889  0.972973  0.900000  0.823529  0.916667    0.900412  "
      ]
     },
     "execution_count": 27,
     "metadata": {},
     "output_type": "execute_result"
    }
   ],
   "source": [
    "# Select the best ML matcher using CV\n",
    "# TODO: use name!\n",
    "result = em.select_matcher([dt, rf, svm, ln, lg], table=H, \n",
    "        exclude_attrs=['_id', 'ltable_id', 'rtable_id', 'label'],\n",
    "        k=5,\n",
    "        target_attr='label', metric='f1', random_state=0)\n",
    "result['cv_stats']"
   ]
  },
  {
   "cell_type": "markdown",
   "metadata": {},
   "source": [
    "## Decision Tree"
   ]
  },
  {
   "cell_type": "code",
   "execution_count": 29,
   "metadata": {
    "collapsed": false
   },
   "outputs": [
    {
     "name": "stdout",
     "output_type": "stream",
     "text": [
      "Precision: 0.857025\n",
      "Recall: 0.976667\n",
      "F1: 0.911783\n"
     ]
    }
   ],
   "source": [
    "dt = em.DTMatcher(name='DecisionTree', random_state=0)\n",
    "result = em.select_matcher([dt], table=H, \n",
    "        exclude_attrs=['_id', 'ltable_id', 'rtable_id','label'],\n",
    "        k=5,\n",
    "        target_attr='label', metric='precision', random_state=0)\n",
    "print 'Precision: {0:6f}'.format(result['cv_stats']['Mean score'][0])\n",
    "result = em.select_matcher([dt], table=H, \n",
    "        exclude_attrs=['_id', 'ltable_id', 'rtable_id','label'],\n",
    "        k=5,\n",
    "        target_attr='label', metric='recall', random_state=0)\n",
    "print 'Recall: {0:6f}'.format(result['cv_stats']['Mean score'][0])\n",
    "result = em.select_matcher([dt], table=H, \n",
    "        exclude_attrs=['_id', 'ltable_id', 'rtable_id','label'],\n",
    "        k=5,\n",
    "        target_attr='label', metric='f1', random_state=0)\n",
    "print 'F1: {0:6f}'.format(result['cv_stats']['Mean score'][0])"
   ]
  },
  {
   "cell_type": "markdown",
   "metadata": {},
   "source": [
    "##  Random Forest"
   ]
  },
  {
   "cell_type": "code",
   "execution_count": 30,
   "metadata": {
    "collapsed": false
   },
   "outputs": [
    {
     "name": "stdout",
     "output_type": "stream",
     "text": [
      "Precision: 0.857025\n",
      "Recall: 0.976667\n",
      "F1: 0.911783\n"
     ]
    }
   ],
   "source": [
    "rf = em.RFMatcher(name='RF', random_state=0)\n",
    "result = em.select_matcher([rf], table=H, \n",
    "        exclude_attrs=['_id', 'ltable_id', 'rtable_id','label'],\n",
    "        k=5,\n",
    "        target_attr='label', metric='precision', random_state=0)\n",
    "print 'Precision: {0:6f}'.format(result['cv_stats']['Mean score'][0])\n",
    "result = em.select_matcher([rf], table=H, \n",
    "        exclude_attrs=['_id', 'ltable_id', 'rtable_id','label'],\n",
    "        k=5,\n",
    "        target_attr='label', metric='recall', random_state=0)\n",
    "print 'Recall: {0:6f}'.format(result['cv_stats']['Mean score'][0])\n",
    "result = em.select_matcher([rf], table=H, \n",
    "        exclude_attrs=['_id', 'ltable_id', 'rtable_id','label'],\n",
    "        k=5,\n",
    "        target_attr='label', metric='f1', random_state=0)\n",
    "print 'F1: {0:6f}'.format(result['cv_stats']['Mean score'][0])"
   ]
  },
  {
   "cell_type": "markdown",
   "metadata": {},
   "source": [
    "## SVM"
   ]
  },
  {
   "cell_type": "code",
   "execution_count": 31,
   "metadata": {
    "collapsed": false
   },
   "outputs": [
    {
     "name": "stdout",
     "output_type": "stream",
     "text": [
      "Precision: 0.855446\n",
      "Recall: 0.964902\n",
      "F1: 0.905777\n"
     ]
    }
   ],
   "source": [
    "svm = em.SVMMatcher(name='SVM', random_state=0)\n",
    "result = em.select_matcher([svm], table=H, \n",
    "        exclude_attrs=['_id', 'ltable_id', 'rtable_id','label'],\n",
    "        k=5,\n",
    "        target_attr='label', metric='precision', random_state=0)\n",
    "print 'Precision: {0:6f}'.format(result['cv_stats']['Mean score'][0])\n",
    "result = em.select_matcher([svm], table=H, \n",
    "        exclude_attrs=['_id', 'ltable_id', 'rtable_id','label'],\n",
    "        k=5,\n",
    "        target_attr='label', metric='recall', random_state=0)\n",
    "print 'Recall: {0:6f}'.format(result['cv_stats']['Mean score'][0])\n",
    "result = em.select_matcher([svm], table=H, \n",
    "        exclude_attrs=['_id', 'ltable_id', 'rtable_id','label'],\n",
    "        k=5,\n",
    "        target_attr='label', metric='f1', random_state=0)\n",
    "print 'F1: {0:6f}'.format(result['cv_stats']['Mean score'][0])"
   ]
  },
  {
   "cell_type": "markdown",
   "metadata": {},
   "source": [
    "## Naive Bayes"
   ]
  },
  {
   "cell_type": "code",
   "execution_count": null,
   "metadata": {
    "collapsed": true
   },
   "outputs": [],
   "source": []
  },
  {
   "cell_type": "markdown",
   "metadata": {},
   "source": [
    "## Logistic Regression"
   ]
  },
  {
   "cell_type": "code",
   "execution_count": 28,
   "metadata": {
    "collapsed": false
   },
   "outputs": [
    {
     "name": "stdout",
     "output_type": "stream",
     "text": [
      "Precision: 0.854494\n",
      "Recall: 0.954902\n",
      "F1: 0.900412\n"
     ]
    }
   ],
   "source": [
    "lg = em.LogRegMatcher(name='LogReg', random_state=0)\n",
    "result = em.select_matcher([lg], table=H, \n",
    "        exclude_attrs=['_id', 'ltable_id', 'rtable_id','label'],\n",
    "        k=5,\n",
    "        target_attr='label', metric='precision', random_state=0)\n",
    "print 'Precision: {0:6f}'.format(result['cv_stats']['Mean score'][0])\n",
    "result = em.select_matcher([lg], table=H, \n",
    "        exclude_attrs=['_id', 'ltable_id', 'rtable_id','label'],\n",
    "        k=5,\n",
    "        target_attr='label', metric='recall', random_state=0)\n",
    "print 'Recall: {0:6f}'.format(result['cv_stats']['Mean score'][0])\n",
    "result = em.select_matcher([lg], table=H, \n",
    "        exclude_attrs=['_id', 'ltable_id', 'rtable_id','label'],\n",
    "        k=5,\n",
    "        target_attr='label', metric='f1', random_state=0)\n",
    "print 'F1: {0:6f}'.format(result['cv_stats']['Mean score'][0])"
   ]
  },
  {
   "cell_type": "markdown",
   "metadata": {},
   "source": [
    "For each of the five learning methods (Decision Tree, Random Forest, SVM, Naive Bayes, Logistic Regression), \n",
    "Report the precision\n",
    "Recall\n",
    "F-1 \n",
    "that you obtain when you perform cross validation for the first time for these methods on I."
   ]
  },
  {
   "cell_type": "markdown",
   "metadata": {},
   "source": [
    "Report which learning based matcher you selected after that cross validation."
   ]
  },
  {
   "cell_type": "markdown",
   "metadata": {},
   "source": [
    "Report all debugging iterations and cross validation iterations that you performed. For each debugging\n",
    "iteration, report (a) what is the matcher that you are trying to debug, and its precision/recall/F-1, (b)\n",
    "what kind of problems you found, and what you did to fix them, (c) the final precision/recall/F-1 that\n",
    "you reached"
   ]
  },
  {
   "cell_type": "markdown",
   "metadata": {},
   "source": [
    "For each cross validation iteration, report (a) what matchers were you trying to evaluate using the\n",
    "cross validation, and (b) precision/recall/F-1 of those.\n",
    "\n",
    "• Report the final best learning-based matcher that you selected, and its precision/recall/F-1."
   ]
  },
  {
   "cell_type": "markdown",
   "metadata": {},
   "source": [
    " Now report the following:\n",
    "– For each of the five learning methods, train it on I, then report its precision/recall/F-1 on J.\n",
    "– For the final best matcher Y∗,  train it on I then report its precision/recall/F-1 on J\n",
    "- List the final set of features that you are using in your feature vectors. \n",
    "\n",
    "• Report an approximate time estimate: (a) how much did it take to label the data, and (b) to find the best\n",
    "learning-based matcher.\n",
    "\n",
    "• Discuss why you can't reach higher precision, recall, F-1. "
   ]
  }
 ],
 "metadata": {
  "anaconda-cloud": {},
  "kernelspec": {
   "display_name": "Python [conda root]",
   "language": "python",
   "name": "conda-root-py"
  },
  "language_info": {
   "codemirror_mode": {
    "name": "ipython",
    "version": 2
   },
   "file_extension": ".py",
   "mimetype": "text/x-python",
   "name": "python",
   "nbconvert_exporter": "python",
   "pygments_lexer": "ipython2",
   "version": "2.7.12"
  }
 },
 "nbformat": 4,
 "nbformat_minor": 1
}
